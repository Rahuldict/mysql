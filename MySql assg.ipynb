{
 "cells": [
  {
   "cell_type": "code",
   "execution_count": 1,
   "id": "f946e563-94e5-41e5-9177-98ff3191a310",
   "metadata": {},
   "outputs": [],
   "source": [
    "#Q1. What is a database? Differentiate between SQL and NoSQL databases."
   ]
  },
  {
   "cell_type": "code",
   "execution_count": null,
   "id": "c11a4588-6f70-4e65-b59d-cda8e712e7b8",
   "metadata": {},
   "outputs": [],
   "source": [
    "'''A database is a structured collection of data that is organized and managed in a way to allow efficient retrieval, storage, and manipulation of data. It acts as a central repository to store and manage data for various applications and systems. Databases come in various types, but the two main categories are SQL databases and NoSQL databases.\n",
    "\n",
    "SQL Database:\n",
    "SQL (Structured Query Language) databases are traditional relational databases that use a structured schema to define the data model. They store data in tables, where each table has predefined columns and data types, and relationships between tables are established using foreign keys. SQL databases are known for their strong consistency, data integrity, and ACID (Atomicity, Consistency, Isolation, Durability) properties. Examples of SQL databases include MySQL, PostgreSQL, Oracle, Microsoft SQL Server, etc.\n",
    "\n",
    "NoSQL Database:\n",
    "NoSQL (Not Only SQL) databases are non-relational databases that provide a flexible data model. They are designed to handle large volumes of unstructured or semi-structured data, making them suitable for modern web applications and big data scenarios. NoSQL databases offer horizontal scalability and can handle large amounts of data with high performance. They don't require a fixed schema and can store data in various formats like key-value pairs, document-based, column-family, or graph-based. Examples of NoSQL databases include MongoDB, Cassandra, Redis, Couchbase, etc.'''"
   ]
  },
  {
   "cell_type": "code",
   "execution_count": 2,
   "id": "30ad94e4-a63a-4dcf-bec6-dc5df5cd7fb1",
   "metadata": {},
   "outputs": [],
   "source": [
    "#Q2. What is DDL? Explain why CREATE, DROP, ALTER, and TRUNCATE are used with an example."
   ]
  },
  {
   "cell_type": "code",
   "execution_count": null,
   "id": "3f022ba6-154d-4743-9786-57580ea7394f",
   "metadata": {},
   "outputs": [],
   "source": [
    "'''DDL (Data Definition Language):\n",
    "DDL is a subset of SQL that deals with defining and managing the structure of database objects. It includes commands to create, modify, and delete database objects like tables, indexes, and views.'''"
   ]
  },
  {
   "cell_type": "code",
   "execution_count": 5,
   "id": "f8c21614-55a5-42cf-98f8-4777726dc1d9",
   "metadata": {},
   "outputs": [],
   "source": [
    "#CREATE: It is used to create a new database object, such as a table.\n",
    "\n",
    "CREATE TABLE employees (\n",
    "    id INT PRIMARY KEY,\n",
    "    name VARCHAR(50),\n",
    "    age INT\n",
    ");\n",
    "\n"
   ]
  },
  {
   "cell_type": "code",
   "execution_count": null,
   "id": "1990ee51-ba8a-486b-aee2-b8332ecb93a8",
   "metadata": {},
   "outputs": [],
   "source": [
    "#DROP: It is used to delete a database object, such as a table.\n",
    "\n",
    "DROP TABLE employees;\n",
    "\n"
   ]
  },
  {
   "cell_type": "code",
   "execution_count": null,
   "id": "d8dc18b1-85e4-4e87-998c-96d861b7d2e0",
   "metadata": {},
   "outputs": [],
   "source": [
    "#ALTER: It is used to modify the structure of an existing database object, such as adding or dropping columns in a table.\n",
    "\n",
    "ALTER TABLE employees\n",
    "ADD salary DECIMAL(10, 2);\n"
   ]
  },
  {
   "cell_type": "code",
   "execution_count": null,
   "id": "0a22dd0a-98f5-4a8e-9312-52553514b36f",
   "metadata": {},
   "outputs": [],
   "source": [
    "#TRUNCATE: It is used to remove all data from a table while keeping its structure intact.\n",
    "\n",
    "\n",
    "TRUNCATE TABLE employees;\n"
   ]
  },
  {
   "cell_type": "code",
   "execution_count": 6,
   "id": "c0bc3e77-67c6-4e42-94b9-42b2849ff88f",
   "metadata": {},
   "outputs": [],
   "source": [
    "#Q3. What is DML? Explain INSERT, UPDATE, and DELETE with an example."
   ]
  },
  {
   "cell_type": "code",
   "execution_count": 7,
   "id": "03608f81-fc09-462b-b763-489e57fc7f2c",
   "metadata": {},
   "outputs": [],
   "source": [
    "#DML (Data Manipulation Language):\n",
    "#DML is a subset of SQL that deals with querying and manipulating data within the database objects. It includes commands to insert, update, and delete records in the tables.\n",
    "\n"
   ]
  },
  {
   "cell_type": "code",
   "execution_count": null,
   "id": "9d4b2ba4-e4a3-4096-a1f1-aeb07132f764",
   "metadata": {},
   "outputs": [],
   "source": [
    "#INSERT: It is used to add new records into a table.\n",
    "\n",
    "\n",
    "INSERT INTO employees (id, name, age, salary)\n",
    "VALUES (1, 'John Doe', 30, 50000);\n"
   ]
  },
  {
   "cell_type": "code",
   "execution_count": null,
   "id": "2bfa3ebe-08a1-4e17-9155-f0eab17154d6",
   "metadata": {},
   "outputs": [],
   "source": [
    "#UPDATE: It is used to modify existing records in a table.\n",
    "\n",
    "UPDATE employees\n",
    "SET salary = 55000\n",
    "WHERE id = 1;\n"
   ]
  },
  {
   "cell_type": "code",
   "execution_count": null,
   "id": "213595ed-12c3-4b0f-adef-75837af448db",
   "metadata": {},
   "outputs": [],
   "source": [
    "#DELETE: It is used to remove records from a table.\n",
    "\n",
    "\n",
    "DELETE FROM employees\n",
    "WHERE id = 1;\n"
   ]
  },
  {
   "cell_type": "code",
   "execution_count": 8,
   "id": "78db150e-9e90-4953-8ec7-bc17d313de04",
   "metadata": {},
   "outputs": [],
   "source": [
    "#Q4. What is DQL? Explain SELECT with an example."
   ]
  },
  {
   "cell_type": "code",
   "execution_count": 9,
   "id": "95c96261-58e9-4f8b-8834-0c490b9904f8",
   "metadata": {},
   "outputs": [],
   "source": [
    "#DQL (Data Query Language): DQL is a subset of SQL that deals with querying and retrieving data from the database.\n",
    "\n"
   ]
  },
  {
   "cell_type": "code",
   "execution_count": 12,
   "id": "0030773f-0c2a-4bf2-b31f-b98c2ddaebf8",
   "metadata": {},
   "outputs": [],
   "source": [
    "#SELECT: It is used to retrieve data from one or more tables based on specified criteria\n",
    "\n",
    "\n",
    "SELECT id, name, age, salary\n",
    "FROM employees\n",
    "WHERE age > 25;\n"
   ]
  },
  {
   "cell_type": "code",
   "execution_count": 13,
   "id": "f9fa05d2-da0c-40dc-bc03-9ae75e4fc12b",
   "metadata": {},
   "outputs": [],
   "source": [
    "#Q5. Explain Primary Key and Foreign Key."
   ]
  },
  {
   "cell_type": "code",
   "execution_count": null,
   "id": "f7f6b836-5a25-4763-ad90-3ac4bc959727",
   "metadata": {},
   "outputs": [],
   "source": [
    "#Primary Key: A primary key is a column or a set of columns in a table that uniquely identifies each row in the table. It enforces data integrity by ensuring that each row has a unique identifier. Primary keys are used to establish relationships between tables (via foreign keys) and are a fundamental concept in relational databases. In most databases, primary keys are indexed for faster data retrieval.\n",
    "\n",
    "CREATE TABLE employees (\n",
    "    id INT PRIMARY KEY,\n",
    "    name VARCHAR(50),\n",
    "    age INT\n",
    ");\n"
   ]
  },
  {
   "cell_type": "code",
   "execution_count": 16,
   "id": "05039d1f-44c9-4713-8a50-37ae324da60f",
   "metadata": {},
   "outputs": [],
   "source": [
    "#Foreign Key: A foreign key is a column or a set of columns in a table that refers to the primary key of another table. It establishes a link between two tables, creating a relationship between them. Foreign keys ensure referential integrity, meaning that the values in the foreign key column must match the values in the primary key column of the referenced table or be NULL.\n",
    "\n",
    "CREATE TABLE departments (\n",
    "    department_id INT PRIMARY KEY,\n",
    "    department_name VARCHAR(50)\n",
    ");\n",
    "\n",
    "CREATE TABLE employees (\n",
    "    id INT PRIMARY KEY,\n",
    "    name VARCHAR(50),\n",
    "    age INT,\n",
    "    department_id INT,\n",
    "    FOREIGN KEY (department_id) REFERENCES departments(department_id)\n",
    ");\n",
    "\n",
    "\n"
   ]
  },
  {
   "cell_type": "code",
   "execution_count": 17,
   "id": "6d49af45-82db-41a8-833f-5fa85fb9b527",
   "metadata": {},
   "outputs": [],
   "source": [
    "#Q6. Write a python code to connect MySQL to python. Explain the cursor() and execute() method."
   ]
  },
  {
   "cell_type": "code",
   "execution_count": null,
   "id": "afc28fdf-2d11-4e5d-86e6-0f6549b9e256",
   "metadata": {},
   "outputs": [],
   "source": [
    "import mysql.connector\n",
    "\n",
    "# Replace 'your_database', 'your_username', 'your_password', and 'your_host' with your actual MySQL credentials\n",
    "database_config = {\n",
    "    \"host\": \"your_host\",\n",
    "    \"user\": \"your_username\",\n",
    "    \"password\": \"your_password\",\n",
    "    \"database\": \"your_database\",\n",
    "}\n",
    "\n",
    "# Connect to MySQL\n",
    "connection = mysql.connector.connect(**database_config)\n",
    "\n",
    "# Create a cursor object to interact with the database\n",
    "cursor = connection.cursor()\n",
    "\n",
    "# Example: Execute a SELECT query\n",
    "try:\n",
    "    cursor.execute(\"SELECT * FROM employees\")\n",
    "    result = cursor.fetchall()\n",
    "\n",
    "    for row in result:\n",
    "        print(row)\n",
    "\n",
    "except mysql.connector.Error as err:\n",
    "    print(f\"Error: {err}\")\n",
    "\n",
    "# Close the cursor and connection\n",
    "cursor.close()\n",
    "connection.close()\n"
   ]
  },
  {
   "cell_type": "code",
   "execution_count": 19,
   "id": "17663e3a-2756-4986-b88c-5a2ea0ec3212",
   "metadata": {},
   "outputs": [],
   "source": [
    "#Q7. Give the order of execution of SQL clauses in an SQL query."
   ]
  },
  {
   "cell_type": "code",
   "execution_count": null,
   "id": "f2f73dde-e01f-4120-ba5a-498a5c51eb72",
   "metadata": {},
   "outputs": [],
   "source": [
    "'''FROM: The FROM clause specifies the table or tables from which the data will be retrieved.\n",
    "\n",
    "WHERE: The WHERE clause filters the rows based on the specified conditions.\n",
    "\n",
    "GROUP BY: The GROUP BY clause is used to group rows that have the same values in a specified column.\n",
    "\n",
    "HAVING: The HAVING clause filters the grouped rows based on the specified conditions.\n",
    "\n",
    "SELECT: The SELECT clause determines which columns will be included in the query result.\n",
    "\n",
    "ORDER BY: The ORDER BY clause sorts the result set based on the specified columns and sort order.\n",
    "\n",
    "LIMIT / OFFSET: The LIMIT and OFFSET clauses are used to limit the number of rows returned and to specify the starting point for the result set.\n",
    "\n",
    "It's important to note that not all clauses are mandatory in a SQL query. The basic structure of a SELECT query typically includes the SELECT, FROM, and optionally the WHERE clause, but the other clauses can be used as needed to customize the query results. Additionally, some databases may have specific rules or optimizations that slightly alter the order of execution, but the general order mentioned above is the standard sequence for executing a SQL query.\n",
    "\n",
    "\n",
    "\n",
    "\n",
    "\n"
   ]
  }
 ],
 "metadata": {
  "kernelspec": {
   "display_name": "Python 3 (ipykernel)",
   "language": "python",
   "name": "python3"
  },
  "language_info": {
   "codemirror_mode": {
    "name": "ipython",
    "version": 3
   },
   "file_extension": ".py",
   "mimetype": "text/x-python",
   "name": "python",
   "nbconvert_exporter": "python",
   "pygments_lexer": "ipython3",
   "version": "3.10.8"
  }
 },
 "nbformat": 4,
 "nbformat_minor": 5
}
